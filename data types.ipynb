{
 "cells": [
  {
   "cell_type": "markdown",
   "id": "0c34de49-1b07-4f93-b74b-3b237a707b24",
   "metadata": {},
   "source": [
    "# Data Types\n",
    "> ## Numeric\n",
    ">> i.e. Interger Float Complex Number\n",
    "\n",
    "> ## Dictionary\n",
    "\n",
    "> ## Boolean\n",
    "\n",
    "> ## Set\n",
    "\n",
    "> ## Sequence Type\n",
    ">> i.e. String List Tuple"
   ]
  },
  {
   "cell_type": "markdown",
   "id": "b969311c-41da-4e7f-aca7-194edcfcb98d",
   "metadata": {},
   "source": [
    "------------------------------------------------------------------------------------------"
   ]
  },
  {
   "cell_type": "markdown",
   "id": "d434e4c6-c290-4081-a495-ca003c94cfc2",
   "metadata": {},
   "source": [
    "# Python Numeric"
   ]
  },
  {
   "cell_type": "markdown",
   "id": "79a35ac2-a3e8-49fb-a5f2-f9ed2524e80f",
   "metadata": {},
   "source": [
    "#### The numeric data type in Python represents the data that has a numeric value."
   ]
  },
  {
   "cell_type": "markdown",
   "id": "c0efb1dd-5d7f-4f2a-ad62-971e9fabd1a2",
   "metadata": {},
   "source": [
    "- #### Integers –\n",
    "> This value is represented by int class. It contains positive or negative whole numbers (without fractions or decimals). In Python, there is no limit to how long an integer value can be.\n",
    "- #### Float –\n",
    "> This value is represented by the float class. It is a real number with a floating-point representation. It is specified by a decimal point. Optionally, the character e or E followed by a positive or negative integer may be appended to specify scientific notation.\n",
    "- #### Complex Numbers –\n",
    "> A complex number is represented by a complex class. It is specified as (real part) + (imaginary part)j. For example – 2+3j"
   ]
  },
  {
   "cell_type": "code",
   "execution_count": 24,
   "id": "144727ff-4ca7-450c-b62c-86aacb9ba66f",
   "metadata": {},
   "outputs": [
    {
     "name": "stdout",
     "output_type": "stream",
     "text": [
      "Type of a :  <class 'int'>\n",
      "5\n"
     ]
    }
   ],
   "source": [
    "a = 5\n",
    "print(\"Type of a : \", type(a))\n",
    "print(a)"
   ]
  },
  {
   "cell_type": "code",
   "execution_count": 25,
   "id": "14ed7774-05be-4bc1-9c1f-c94af5fecd19",
   "metadata": {},
   "outputs": [
    {
     "name": "stdout",
     "output_type": "stream",
     "text": [
      "Type of a :  <class 'float'>\n",
      "5.0\n"
     ]
    }
   ],
   "source": [
    "b = 5.0\n",
    "print(\"Type of a : \", type(b))\n",
    "print(b)"
   ]
  },
  {
   "cell_type": "code",
   "execution_count": 26,
   "id": "b1f1fae2-16c9-4b0e-92c7-6e0e07a81f10",
   "metadata": {},
   "outputs": [
    {
     "name": "stdout",
     "output_type": "stream",
     "text": [
      "Type of a :  <class 'complex'>\n",
      "(2+5j)\n"
     ]
    }
   ],
   "source": [
    "c = 2 + 5j\n",
    "print(\"Type of a : \", type(c))\n",
    "print(c)"
   ]
  },
  {
   "cell_type": "code",
   "execution_count": null,
   "id": "c60c2ada-4e20-4d69-9ded-9b5bc9fcd64a",
   "metadata": {},
   "outputs": [],
   "source": []
  },
  {
   "cell_type": "code",
   "execution_count": null,
   "id": "2d26f32a-d17e-4d23-9fb3-29b67fc0d31e",
   "metadata": {},
   "outputs": [],
   "source": []
  },
  {
   "cell_type": "code",
   "execution_count": null,
   "id": "e5a3cd0e-97c4-4b13-a464-e8e6f12afbbe",
   "metadata": {},
   "outputs": [],
   "source": []
  },
  {
   "cell_type": "code",
   "execution_count": null,
   "id": "850c026d-9e94-47a1-96cd-bf668f62dd98",
   "metadata": {},
   "outputs": [],
   "source": []
  },
  {
   "cell_type": "markdown",
   "id": "84cb7779-37ed-4383-810f-815fdb3dcc8b",
   "metadata": {},
   "source": [
    "# Python String"
   ]
  },
  {
   "cell_type": "markdown",
   "id": "903c80d1-39d2-464e-9c47-c1d2dbbb5d92",
   "metadata": {},
   "source": [
    "> Strings in Python are arrays of bytes representing Unicode characters. A string is a collection of one or more characters put in a single quote, double-quote, or triple-quote."
   ]
  },
  {
   "cell_type": "code",
   "execution_count": 11,
   "id": "0b69ab3a-35e6-4d2d-8b51-c7983d9bd1a0",
   "metadata": {},
   "outputs": [],
   "source": [
    "string1 = 'Welcome to greeks World'"
   ]
  },
  {
   "cell_type": "code",
   "execution_count": 21,
   "id": "443bfe9a-2892-493a-ab91-a8f76cd09a6d",
   "metadata": {},
   "outputs": [
    {
     "name": "stdout",
     "output_type": "stream",
     "text": [
      "String with the use of single quotes: Welcome to greeks World\n",
      "Welcome to greeks World\n",
      "<class 'str'>\n"
     ]
    }
   ],
   "source": [
    "string1\n",
    "print(f'String with the use of single quotes: {string1}')\n",
    "print(string1)\n",
    "print(type(string1))"
   ]
  },
  {
   "cell_type": "code",
   "execution_count": 13,
   "id": "4e648894-5585-4983-804d-d5fdc722b101",
   "metadata": {},
   "outputs": [],
   "source": [
    "string2 = \" I'm a Greek\""
   ]
  },
  {
   "cell_type": "code",
   "execution_count": 15,
   "id": "de1e8078-4153-418f-9a88-f62bfeaab6ae",
   "metadata": {},
   "outputs": [
    {
     "name": "stdout",
     "output_type": "stream",
     "text": [
      "String with use of single quotes:  I'm a Greek\n",
      " I'm a Greek\n"
     ]
    }
   ],
   "source": [
    "string2\n",
    "print(f'String with use of single quotes: {string2}')\n",
    "print(string2)"
   ]
  },
  {
   "cell_type": "code",
   "execution_count": 17,
   "id": "7f4af290-cccd-4919-93a8-4d67b0419c92",
   "metadata": {},
   "outputs": [],
   "source": [
    "string3 =''' I'm a Geek and I live in a world of \"Geeks\" '''"
   ]
  },
  {
   "cell_type": "code",
   "execution_count": 18,
   "id": "703c6480-3acc-45e4-b86e-b9bbfb4cdb19",
   "metadata": {},
   "outputs": [
    {
     "name": "stdout",
     "output_type": "stream",
     "text": [
      "String with use of single quotes:  I'm a Geek and I live in a world of \"Geeks\" \n",
      " I'm a Geek and I live in a world of \"Geeks\" \n"
     ]
    }
   ],
   "source": [
    "print(f'String with use of single quotes: {string3}')\n",
    "print(string3)"
   ]
  },
  {
   "cell_type": "code",
   "execution_count": null,
   "id": "97093e37-f59e-4e53-8001-72361af2d6c0",
   "metadata": {},
   "outputs": [],
   "source": []
  },
  {
   "cell_type": "code",
   "execution_count": null,
   "id": "d6b92be1-aa5f-447a-aed4-a6d39055fb67",
   "metadata": {},
   "outputs": [],
   "source": []
  },
  {
   "cell_type": "code",
   "execution_count": null,
   "id": "dc5011bc-d49e-439e-bf21-8d1869959a73",
   "metadata": {},
   "outputs": [],
   "source": []
  },
  {
   "cell_type": "code",
   "execution_count": 2,
   "id": "5688b734-ff7e-4e52-8fb1-949325cda0bf",
   "metadata": {},
   "outputs": [
    {
     "ename": "NameError",
     "evalue": "name 'x' is not defined",
     "output_type": "error",
     "traceback": [
      "\u001b[1;31m---------------------------------------------------------------------------\u001b[0m",
      "\u001b[1;31mNameError\u001b[0m                                 Traceback (most recent call last)",
      "Cell \u001b[1;32mIn[2], line 1\u001b[0m\n\u001b[1;32m----> 1\u001b[0m x \u001b[38;5;241m==\u001b[39m y    \u001b[38;5;66;03m# x is equal to y\u001b[39;00m\n\u001b[0;32m      2\u001b[0m x \u001b[38;5;241m!=\u001b[39m y    \u001b[38;5;66;03m# x is not equal to y\u001b[39;00m\n\u001b[0;32m      3\u001b[0m x \u001b[38;5;241m>\u001b[39m y     \u001b[38;5;66;03m# x is greater than y\u001b[39;00m\n",
      "\u001b[1;31mNameError\u001b[0m: name 'x' is not defined"
     ]
    }
   ],
   "source": [
    "x == y    # x is equal to y\n",
    "x != y    # x is not equal to y\n",
    "x > y     # x is greater than y\n",
    "x < y     # x is less than y\n",
    "x >= y    # x is greater than or equal to y\n",
    "x <= y    # x is less than or equal to y"
   ]
  },
  {
   "cell_type": "code",
   "execution_count": null,
   "id": "84b7acdd-fffb-4a29-81aa-961a2a9ef32d",
   "metadata": {},
   "outputs": [],
   "source": []
  }
 ],
 "metadata": {
  "kernelspec": {
   "display_name": "Python 3 (ipykernel)",
   "language": "python",
   "name": "python3"
  },
  "language_info": {
   "codemirror_mode": {
    "name": "ipython",
    "version": 3
   },
   "file_extension": ".py",
   "mimetype": "text/x-python",
   "name": "python",
   "nbconvert_exporter": "python",
   "pygments_lexer": "ipython3",
   "version": "3.11.7"
  }
 },
 "nbformat": 4,
 "nbformat_minor": 5
}
